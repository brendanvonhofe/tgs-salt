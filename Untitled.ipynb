{
 "cells": [
  {
   "cell_type": "code",
   "execution_count": 1,
   "metadata": {},
   "outputs": [
    {
     "name": "stderr",
     "output_type": "stream",
     "text": [
      "/home/bread/anaconda3/envs/fastai/lib/python3.6/site-packages/sklearn/ensemble/weight_boosting.py:29: DeprecationWarning: numpy.core.umath_tests is an internal NumPy module and should not be imported. It will be removed in a future NumPy release.\n",
      "  from numpy.core.umath_tests import inner1d\n"
     ]
    }
   ],
   "source": [
    "import sys\n",
    "import hpconfig as cfg\n",
    "import pathconfig\n",
    "sys.path.append(pathconfig.sys_path)\n",
    "\n",
    "from fastai.conv_learner import *\n",
    "from model import get_learner"
   ]
  },
  {
   "cell_type": "code",
   "execution_count": 2,
   "metadata": {},
   "outputs": [],
   "source": [
    "class EarlyStopping(Callback):\n",
    "    def __init__(self, savename, learn):\n",
    "        self.best_dice = 0\n",
    "        self.savename = savename\n",
    "        self.learn = learn\n",
    "\n",
    "    def on_epoch_end(self, metrics):\n",
    "        if(metrics[2] > self.best_dice):\n",
    "            self.best_dice = metrics[2]\n",
    "            print(f'\\nNew highest dice achieved: {metrics[2]}, saving to {self.savename}')\n",
    "            self.learn.save(self.savename)"
   ]
  },
  {
   "cell_type": "code",
   "execution_count": 3,
   "metadata": {},
   "outputs": [
    {
     "name": "stdout",
     "output_type": "stream",
     "text": [
      "learning rates at each set of epochs:  [0.04, 0.0002]\n",
      "scaling of learning rates through layer groups:  [4, 4]\n",
      "weight decays at each epoch set:  [1e-07, 1e-07]\n",
      "cycle lengths:  [20, 50, 20]\n",
      "learning rate cycle parameters:  [(5, 8), (20, 10)]\n",
      "#kernels at each layer:  [256, 256, 256, 256]\n",
      "architecture:  densenet121\n",
      "Probability of dropout in each layer:  [0.0, 0.0, 0.0, 0.0]\n"
     ]
    }
   ],
   "source": [
    "cfg.print_hps()"
   ]
  },
  {
   "cell_type": "code",
   "execution_count": 4,
   "metadata": {},
   "outputs": [],
   "source": [
    "learn = get_learner(cfg.arch)"
   ]
  },
  {
   "cell_type": "code",
   "execution_count": 5,
   "metadata": {},
   "outputs": [],
   "source": [
    "learn.freeze_to(1)"
   ]
  },
  {
   "cell_type": "code",
   "execution_count": 7,
   "metadata": {},
   "outputs": [
    {
     "data": {
      "application/vnd.jupyter.widget-view+json": {
       "model_id": "fc509d1d29794a4ca421eb27fe02a88d",
       "version_major": 2,
       "version_minor": 0
      },
      "text/plain": [
       "HBox(children=(IntProgress(value=0, description='Epoch', max=1), HTML(value='')))"
      ]
     },
     "metadata": {},
     "output_type": "display_data"
    },
    {
     "name": "stdout",
     "output_type": "stream",
     "text": [
      " 86%|████████▌ | 43/50 [00:10<00:01,  4.19it/s, loss=3.41]"
     ]
    },
    {
     "data": {
      "image/png": "[encoded data removed]",
      "text/plain": [
       "<Figure size 432x288 with 1 Axes>"
      ]
     },
     "metadata": {
      "needs_background": "light"
     },
     "output_type": "display_data"
    }
   ],
   "source": [
    "learn.lr_find(wds=1e-7)\n",
    "learn.sched.plot()"
   ]
  },
  {
   "cell_type": "code",
   "execution_count": 7,
   "metadata": {},
   "outputs": [],
   "source": [
    "lr = 1e-2\n",
    "wd = 1e-7"
   ]
  },
  {
   "cell_type": "code",
   "execution_count": 9,
   "metadata": {},
   "outputs": [],
   "source": [
    "lrs = np.array([lr/(cfg.lrs_scalings[0] ** 2),lr/cfg.lrs_scalings[0],lr])"
   ]
  },
  {
   "cell_type": "code",
   "execution_count": 10,
   "metadata": {},
   "outputs": [
    {
     "data": {
      "application/vnd.jupyter.widget-view+json": {
       "model_id": "b60889ed6dd94d309330671212f29ff6",
       "version_major": 2,
       "version_minor": 0
      },
      "text/plain": [
       "HBox(children=(IntProgress(value=0, description='Epoch', max=20), HTML(value='')))"
      ]
     },
     "metadata": {},
     "output_type": "display_data"
    },
    {
     "name": "stdout",
     "output_type": "stream",
     "text": [
      "                                                           \n",
      "New highest dice achieved: 0.5375607811896104, saving to densenet1210\n",
      "epoch      trn_loss   val_loss   <lambda>   dice       \n",
      "    0      1.003272   0.904988   0.74401    0.537561  \n",
      "                                                           \n",
      "New highest dice achieved: 0.7966949770018233, saving to densenet1210\n",
      "    1      0.818326   0.682185   0.899289   0.796695  \n",
      "                                                           \n",
      "New highest dice achieved: 0.8150235281087244, saving to densenet1210\n",
      "    2      0.689072   0.555596   0.906067   0.815024  \n",
      "                                                           \n",
      "New highest dice achieved: 0.8651536594735755, saving to densenet1210\n",
      "    3      0.607021   0.457988   0.923083   0.865154  \n",
      "    4      0.553761   0.520093   0.903312   0.818527       \n",
      "    5      0.55169    0.498051   0.911061   0.826783       \n",
      "    6      0.513577   0.473347   0.918561   0.853495       \n",
      "                                                           \n",
      "New highest dice achieved: 0.876427495903514, saving to densenet1210\n",
      "    7      0.487612   0.410626   0.930502   0.876427  \n",
      "    8      0.463365   0.424073   0.92775    0.872208       \n",
      "    9      0.481773   0.429369   0.924117   0.862959       \n",
      "    10     0.468066   0.424801   0.928409   0.870304       \n",
      "                                                           \n",
      "New highest dice achieved: 0.8878153588138216, saving to densenet1210\n",
      "    11     0.445196   0.38132    0.935264   0.887815  \n",
      "    12     0.425816   0.400059   0.924328   0.862672       \n",
      "    13     0.416891   0.377446   0.933654   0.882529       \n",
      "    14     0.407212   0.40049    0.929349   0.872084       \n",
      "    15     0.400183   0.40941    0.924015   0.863373       \n",
      "    16     0.41001    0.382907   0.930897   0.878149       \n",
      "    17     0.400056   0.373261   0.935636   0.887596       \n",
      "                                                           \n",
      "New highest dice achieved: 0.8940120087177093, saving to densenet1210\n",
      "    18     0.38051    0.358392   0.937641   0.894012  \n",
      "    19     0.380308   0.365995   0.935801   0.887125       \n"
     ]
    },
    {
     "data": {
      "text/plain": [
       "[array([0.36599]), 0.9358006286621093, 0.8871245887239887]"
      ]
     },
     "execution_count": 10,
     "metadata": {},
     "output_type": "execute_result"
    }
   ],
   "source": [
    "learn.fit(lrs,1,wds=cfg.seq_wds[0],cycle_len=cfg.cycle_lens[0],use_clr=cfg.clrs[0], callbacks=[EarlyStopping(cfg.arch + str(0), learn)])"
   ]
  },
  {
   "cell_type": "code",
   "execution_count": 11,
   "metadata": {},
   "outputs": [],
   "source": [
    "learn.load('densenet1210')"
   ]
  },
  {
   "cell_type": "code",
   "execution_count": 5,
   "metadata": {},
   "outputs": [],
   "source": [
    "learn.unfreeze()\n",
    "learn.bn_freeze(True)"
   ]
  },
  {
   "cell_type": "code",
   "execution_count": 13,
   "metadata": {},
   "outputs": [
    {
     "data": {
      "application/vnd.jupyter.widget-view+json": {
       "model_id": "0cd0354d38524d9f874293d593f0e0c5",
       "version_major": 2,
       "version_minor": 0
      },
      "text/plain": [
       "HBox(children=(IntProgress(value=0, description='Epoch', max=1), HTML(value='')))"
      ]
     },
     "metadata": {},
     "output_type": "display_data"
    },
    {
     "name": "stdout",
     "output_type": "stream",
     "text": [
      " 68%|██████▊   | 34/50 [00:10<00:04,  3.24it/s, loss=0.672]"
     ]
    },
    {
     "data": {
      "image/png": "[encoded data removed]",
      "text/plain": [
       "<Figure size 432x288 with 1 Axes>"
      ]
     },
     "metadata": {
      "needs_background": "light"
     },
     "output_type": "display_data"
    }
   ],
   "source": [
    "learn.lr_find(start_lr=1e-7, wds=1e-7)\n",
    "learn.sched.plot()"
   ]
  },
  {
   "cell_type": "code",
   "execution_count": 8,
   "metadata": {},
   "outputs": [],
   "source": [
    "lr = 1e-4"
   ]
  },
  {
   "cell_type": "code",
   "execution_count": 9,
   "metadata": {},
   "outputs": [],
   "source": [
    "lrs = np.array([lr/16, lr/4, lr])"
   ]
  },
  {
   "cell_type": "code",
   "execution_count": 16,
   "metadata": {},
   "outputs": [
    {
     "data": {
      "application/vnd.jupyter.widget-view+json": {
       "model_id": "8e1e36b9a3ca427eb69702c2994916aa",
       "version_major": 2,
       "version_minor": 0
      },
      "text/plain": [
       "HBox(children=(IntProgress(value=0, description='Epoch', max=50), HTML(value='')))"
      ]
     },
     "metadata": {},
     "output_type": "display_data"
    },
    {
     "name": "stdout",
     "output_type": "stream",
     "text": [
      "                                                           \n",
      "New highest dice achieved: 0.8958112163070326, saving to densenet1211\n",
      "epoch      trn_loss   val_loss   <lambda>   dice       \n",
      "    0      0.351215   0.350712   0.938225   0.895811  \n",
      "    1      0.348871   0.360216   0.936758   0.892939       \n",
      "    2      0.341414   0.36762    0.935548   0.888618       \n",
      "    3      0.343247   0.359308   0.935403   0.890213       \n",
      "    4      0.346268   0.364906   0.933946   0.887249       \n",
      "    5      0.344791   0.363456   0.931973   0.883946       \n",
      "    6      0.345453   0.38958    0.926934   0.873121       \n",
      "                                                           \n",
      "New highest dice achieved: 0.8959569468398041, saving to densenet1211\n",
      "    7      0.348825   0.3523     0.939101   0.895957  \n",
      "    8      0.340677   0.359124   0.937007   0.891365       \n",
      "    9      0.336265   0.364201   0.937071   0.894361       \n",
      "    10     0.338986   0.352311   0.936535   0.895035       \n",
      "    11     0.334385   0.363628   0.935565   0.889486       \n",
      "    12     0.329826   0.350231   0.938357   0.895504       \n",
      "    13     0.331047   0.365386   0.932653   0.883716       \n",
      "    14     0.338663   0.348215   0.938106   0.894498       \n",
      "    15     0.33103    0.358002   0.936824   0.890865       \n",
      "    16     0.328117   0.35672    0.938526   0.894355       \n",
      "                                                           \n",
      "New highest dice achieved: 0.896161729285803, saving to densenet1211\n",
      "    17     0.332929   0.357073   0.939174   0.896162  \n",
      "    18     0.330662   0.355814   0.938548   0.894205       \n",
      "                                                           \n",
      "New highest dice achieved: 0.9014239876354256, saving to densenet1211\n",
      "    19     0.325809   0.338161   0.940981   0.901424  \n",
      "    20     0.321314   0.34724    0.938886   0.89733        \n",
      "    21     0.327626   0.340586   0.938401   0.896565       \n",
      "    22     0.323498   0.344871   0.939381   0.897052       \n",
      "    23     0.324834   0.355371   0.938234   0.895095       \n",
      "    24     0.32257    0.345472   0.938966   0.896686       \n",
      "    25     0.322519   0.354365   0.940409   0.899625       \n",
      "    26     0.322367   0.344818   0.938802   0.896663       \n",
      "    27     0.320674   0.349201   0.940279   0.89848        \n",
      "    28     0.320855   0.338455   0.940146   0.899892       \n",
      "    29     0.32272    0.361583   0.935002   0.888266       \n",
      "                                                           \n",
      "New highest dice achieved: 0.9028057923936313, saving to densenet1211\n",
      "    30     0.325741   0.332574   0.940944   0.902806  \n",
      "    31     0.324094   0.363609   0.934528   0.887676       \n",
      "    32     0.327387   0.341289   0.938494   0.896102       \n",
      "    33     0.322847   0.342784   0.941622   0.902593       \n",
      "    34     0.3176     0.35037    0.93953    0.89944        \n",
      "    35     0.313153   0.354049   0.939209   0.897295       \n",
      "    36     0.315543   0.336531   0.940626   0.900731       \n",
      "    37     0.313254   0.349149   0.937301   0.892793       \n",
      "    38     0.316705   0.337004   0.940913   0.900571       \n",
      "    39     0.314956   0.336717   0.941154   0.90135        \n",
      "    40     0.318816   0.338833   0.939853   0.899091       \n",
      "    41     0.314766   0.343174   0.93883    0.897451       \n",
      "    42     0.313857   0.344861   0.939586   0.898989       \n",
      "    43     0.314861   0.338102   0.939609   0.897884       \n",
      "    44     0.308403   0.343807   0.938356   0.895996       \n",
      "    45     0.311681   0.343537   0.939513   0.897603       \n",
      "    46     0.315361   0.343313   0.940766   0.901523       \n",
      "    47     0.309468   0.339813   0.938761   0.898745       \n",
      "    48     0.310038   0.33855    0.938716   0.896196       \n",
      "    49     0.310435   0.341674   0.938437   0.895955       \n"
     ]
    },
    {
     "data": {
      "text/plain": [
       "[array([0.34167]), 0.9384366607666016, 0.8959549765199375]"
      ]
     },
     "execution_count": 16,
     "metadata": {},
     "output_type": "execute_result"
    }
   ],
   "source": [
    "learn.fit(lrs, 1, wds=wd, cycle_len=cfg.cycle_lens[1], use_clr=cfg.clrs[1], callbacks=[EarlyStopping(cfg.arch + str(1), learn)])"
   ]
  },
  {
   "cell_type": "code",
   "execution_count": 17,
   "metadata": {},
   "outputs": [
    {
     "data": {
      "application/vnd.jupyter.widget-view+json": {
       "model_id": "3e1ac3b6eddf472591a62f23bc33ce17",
       "version_major": 2,
       "version_minor": 0
      },
      "text/plain": [
       "HBox(children=(IntProgress(value=0, description='Epoch', max=20), HTML(value='')))"
      ]
     },
     "metadata": {},
     "output_type": "display_data"
    },
    {
     "name": "stdout",
     "output_type": "stream",
     "text": [
      "                                                           \n",
      "New highest dice achieved: 0.8960083227830207, saving to densenet1212\n",
      "epoch      trn_loss   val_loss   <lambda>   dice       \n",
      "    0      0.310868   0.341629   0.938443   0.896008  \n",
      "                                                           \n",
      "New highest dice achieved: 0.8995053118542005, saving to densenet1212\n",
      "    1      0.314711   0.345082   0.939985   0.899505  \n",
      "                                                           \n",
      "New highest dice achieved: 0.9003288595341687, saving to densenet1212\n",
      "    2      0.314388   0.333231   0.940668   0.900329  \n",
      "    3      0.319324   0.341766   0.939427   0.899136       \n",
      "    4      0.309721   0.343386   0.939661   0.898363       \n",
      "                                                           \n",
      "New highest dice achieved: 0.9031607467984563, saving to densenet1212\n",
      "    5      0.315839   0.337536   0.941513   0.903161  \n",
      "    6      0.310176   0.33855    0.940626   0.901214       \n",
      "    7      0.309654   0.338447   0.941047   0.902189       \n",
      "    8      0.30612    0.337991   0.941016   0.90235        \n",
      "    9      0.311504   0.336463   0.939826   0.900654       \n",
      "    10     0.309165   0.338538   0.939606   0.89995        \n",
      "    11     0.309744   0.340491   0.938594   0.896326       \n",
      "    12     0.309122   0.340697   0.938962   0.897818       \n",
      "    13     0.303737   0.340531   0.939451   0.898767       \n",
      "    14     0.302922   0.339923   0.939737   0.899634       \n",
      "    15     0.309526   0.34028    0.93994    0.90046        \n",
      "    16     0.304766   0.339592   0.940444   0.902238       \n",
      "    17     0.30535    0.339832   0.939698   0.899786       \n",
      "    18     0.307838   0.339833   0.939698   0.899788       \n",
      "    19     0.307471   0.339833   0.939698   0.899791       \n"
     ]
    },
    {
     "data": {
      "text/plain": [
       "[array([0.33983]), 0.9396976470947266, 0.8997910787449507]"
      ]
     },
     "execution_count": 17,
     "metadata": {},
     "output_type": "execute_result"
    }
   ],
   "source": [
    "\n",
    "learn.fit(lrs/4, 1, wds=wd, cycle_len=cfg.cycle_lens[2], callbacks=[EarlyStopping(cfg.arch + str(2), learn)])"
   ]
  },
  {
   "cell_type": "code",
   "execution_count": 18,
   "metadata": {},
   "outputs": [
    {
     "data": {
      "application/vnd.jupyter.widget-view+json": {
       "model_id": "522c2ef05d4e4a64aa5fb739ddc2cfdd",
       "version_major": 2,
       "version_minor": 0
      },
      "text/plain": [
       "HBox(children=(IntProgress(value=0, description='Epoch', max=1), HTML(value='')))"
      ]
     },
     "metadata": {},
     "output_type": "display_data"
    },
    {
     "name": "stdout",
     "output_type": "stream",
     "text": [
      " 70%|███████   | 35/50 [00:10<00:04,  3.27it/s, loss=0.955]"
     ]
    },
    {
     "data": {
      "image/png": "[encoded data removed]",
      "text/plain": [
       "<Figure size 432x288 with 1 Axes>"
      ]
     },
     "metadata": {
      "needs_background": "light"
     },
     "output_type": "display_data"
    }
   ],
   "source": [
    "learn.lr_find(start_lr=1e-7, wds=1e-7)\n",
    "learn.sched.plot()"
   ]
  },
  {
   "cell_type": "code",
   "execution_count": 13,
   "metadata": {},
   "outputs": [],
   "source": [
    "learn.load('densenet1211')"
   ]
  },
  {
   "cell_type": "code",
   "execution_count": 14,
   "metadata": {},
   "outputs": [
    {
     "data": {
      "application/vnd.jupyter.widget-view+json": {
       "model_id": "fdf8a57511824120a3329c205a7150cb",
       "version_major": 2,
       "version_minor": 0
      },
      "text/plain": [
       "HBox(children=(IntProgress(value=0, description='Epoch', max=20), HTML(value='')))"
      ]
     },
     "metadata": {},
     "output_type": "display_data"
    },
    {
     "name": "stdout",
     "output_type": "stream",
     "text": [
      "                                                           \n",
      "New highest dice achieved: 0.9028687983241981, saving to densenet1212\n",
      "epoch      trn_loss   val_loss   <lambda>   dice       \n",
      "    0      0.32401    0.332518   0.940978   0.902869  \n",
      "    1      0.320531   0.336479   0.93961    0.900185       \n",
      "    2      0.326737   0.33792    0.939703   0.898866       \n",
      "    3      0.32154    0.342053   0.939711   0.898521       \n",
      "    4      0.320937   0.345924   0.938781   0.895625       \n",
      "    5      0.315249   0.339232   0.939597   0.899615       \n",
      "    6      0.310903   0.338953   0.940838   0.902289       \n",
      "    7      0.313438   0.341092   0.939931   0.900592       \n",
      "    8      0.313691   0.33892    0.939769   0.900414       \n",
      "    9      0.317854   0.341257   0.939739   0.900646       \n",
      "    10     0.31434    0.342773   0.938921   0.898434       \n",
      "    11     0.316447   0.341955   0.939351   0.899598       \n",
      "    12     0.317389   0.33936    0.939705   0.900038       \n",
      "    13     0.315683   0.338722   0.939432   0.899817       \n",
      "    14     0.313708   0.3379     0.939497   0.900098       \n",
      "    15     0.312953   0.338391   0.939568   0.900189       \n",
      "    16     0.312691   0.337651   0.939525   0.900175       \n",
      "    17     0.308062   0.337927   0.939495   0.900025       \n",
      "    18     0.313185   0.337961   0.939492   0.900023       \n",
      "    19     0.313119   0.337964   0.939491   0.900017       \n"
     ]
    },
    {
     "data": {
      "text/plain": [
       "[array([0.33796]), 0.9394911193847656, 0.9000167776732694]"
      ]
     },
     "execution_count": 14,
     "metadata": {},
     "output_type": "execute_result"
    }
   ],
   "source": [
    "learn.fit(lrs/10, 1, wds=wd, cycle_len=cfg.cycle_lens[2], callbacks=[EarlyStopping(cfg.arch + str(2), learn)])"
   ]
  },
  {
   "cell_type": "code",
   "execution_count": 15,
   "metadata": {},
   "outputs": [
    {
     "data": {
      "application/vnd.jupyter.widget-view+json": {
       "model_id": "b048c35299a54f4c98eade310d0ccc7e",
       "version_major": 2,
       "version_minor": 0
      },
      "text/plain": [
       "HBox(children=(IntProgress(value=0, description='Epoch', max=20), HTML(value='')))"
      ]
     },
     "metadata": {},
     "output_type": "display_data"
    },
    {
     "name": "stdout",
     "output_type": "stream",
     "text": [
      "                                                           \n",
      "New highest dice achieved: 0.9001129087304511, saving to densenet1212\n",
      "epoch      trn_loss   val_loss   <lambda>   dice       \n",
      "    0      0.317096   0.338052   0.939516   0.900113  \n",
      "    1      0.314899   0.340877   0.939338   0.898193       \n",
      "                                                           \n",
      "New highest dice achieved: 0.9005270565956611, saving to densenet1212\n",
      "    2      0.3119     0.338023   0.939842   0.900527  \n",
      "                                                           \n",
      "New highest dice achieved: 0.9018234792517645, saving to densenet1212\n",
      "    3      0.311569   0.340352   0.940645   0.901823  \n",
      "    4      0.314622   0.339191   0.939329   0.898576       \n",
      "    5      0.315639   0.3378     0.939283   0.899601       \n",
      "    6      0.318934   0.339145   0.939812   0.900211       \n",
      "    7      0.31955    0.338558   0.938958   0.896365       \n",
      "    8      0.317157   0.338988   0.938744   0.897324       \n",
      "    9      0.31467    0.339784   0.938854   0.896216       \n",
      "    10     0.311411   0.340124   0.938881   0.896018       \n",
      "    11     0.310954   0.340107   0.938518   0.89709        \n",
      "    12     0.312804   0.340237   0.938485   0.896946       \n",
      "    13     0.307057   0.339947   0.939185   0.898851       \n",
      "    14     0.312804   0.339943   0.939197   0.898828       \n",
      "    15     0.309569   0.339947   0.93951    0.899268       \n",
      "    16     0.308285   0.339859   0.939535   0.899278       \n",
      "    17     0.311076   0.339873   0.939604   0.89941        \n",
      "    18     0.311723   0.33995    0.939622   0.899528       \n",
      "    19     0.31076    0.339946   0.939622   0.899532       \n"
     ]
    },
    {
     "data": {
      "text/plain": [
       "[array([0.33995]), 0.9396223449707031, 0.89953166383421]"
      ]
     },
     "execution_count": 15,
     "metadata": {},
     "output_type": "execute_result"
    }
   ],
   "source": [
    "learn.fit(lrs/10, 1, wds=wd, cycle_len=cfg.cycle_lens[2], callbacks=[EarlyStopping(cfg.arch + str(2), learn)])"
   ]
  },
  {
   "cell_type": "code",
   "execution_count": null,
   "metadata": {},
   "outputs": [],
   "source": []
  }
 ],
 "metadata": {
  "kernelspec": {
   "display_name": "Python 3",
   "language": "python",
   "name": "python3"
  },
  "language_info": {
   "codemirror_mode": {
    "name": "ipython",
    "version": 3
   },
   "file_extension": ".py",
   "mimetype": "text/x-python",
   "name": "python",
   "nbconvert_exporter": "python",
   "pygments_lexer": "ipython3",
   "version": "3.6.6"
  }
 },
 "nbformat": 4,
 "nbformat_minor": 2
}
